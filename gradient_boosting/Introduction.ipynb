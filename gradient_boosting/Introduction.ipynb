{
 "cells": [
  {
   "cell_type": "markdown",
   "metadata": {},
   "source": [
    "# Gradient Boosting\n",
    "\n",
    "\n",
    "## Desciption\n",
    "\n",
    "Uses even weaker decision trees, that are increasingly focused on \"hard\" examples\n",
    "\n",
    "## Advantages\n",
    "\n",
    "* High-performing\n",
    "\n",
    "## Disadvantages\n",
    "\n",
    "* A small change in the feature set of training set can create radical changes in the model.\n",
    "* Not easy to understand predictions"
   ]
  },
  {
   "cell_type": "code",
   "execution_count": null,
   "metadata": {
    "collapsed": true
   },
   "outputs": [],
   "source": []
  }
 ],
 "metadata": {
  "kernelspec": {
   "display_name": "Python 2",
   "language": "python",
   "name": "python2"
  },
  "language_info": {
   "codemirror_mode": {
    "name": "ipython",
    "version": 2
   },
   "file_extension": ".py",
   "mimetype": "text/x-python",
   "name": "python",
   "nbconvert_exporter": "python",
   "pygments_lexer": "ipython2",
   "version": "2.7.11"
  }
 },
 "nbformat": 4,
 "nbformat_minor": 2
}
