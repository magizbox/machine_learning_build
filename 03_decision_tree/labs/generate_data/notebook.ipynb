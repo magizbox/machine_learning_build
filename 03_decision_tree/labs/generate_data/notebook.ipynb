{
 "cells": [
  {
   "cell_type": "code",
   "execution_count": 3,
   "metadata": {
    "collapsed": false
   },
   "outputs": [
    {
     "name": "stdout",
     "output_type": "stream",
     "text": [
      "Save 11 points\n",
      "Save 13 points\n",
      "Save 13 points\n",
      "Save 13 points\n",
      "Save 17 points\n",
      "Save 17 points\n"
     ]
    }
   ],
   "source": [
    "import matplotlib.pyplot as plt\n",
    "import numpy as np\n",
    "import pandas as pd\n",
    "from matplotlib.widgets import RadioButtons, Button\n",
    "\n",
    "points = []\n",
    "\n",
    "fig, ax = plt.subplots()\n",
    "plt.subplots_adjust(bottom=0.2, left=0.18)\n",
    "plot = ax.scatter([], [])\n",
    "select_color_ax = plt.axes([0.01, 0.4, 0.1, 0.15])\n",
    "select_color_widget = RadioButtons(select_color_ax, ('Blue', 'Red'), active=0, activecolor='black')\n",
    "save_ax = plt.axes([0.7, 0.05, 0.1, 0.075])\n",
    "save_widget = Button(save_ax, 'Save')\n",
    "\n",
    "ax.set_xlim(-5, 5)\n",
    "ax.set_ylim(-5, 5)\n",
    "\n",
    "\n",
    "def save_data(event):\n",
    "    global points\n",
    "    data = [point.__dict__ for point in points]\n",
    "    df = pd.DataFrame(data)\n",
    "    df.to_csv(\"data.csv\", index=False)\n",
    "    print \"Save %s points\" % len(points)\n",
    "\n",
    "\n",
    "class Point:\n",
    "    def __init__(self, x, y, label):\n",
    "        self.x = x\n",
    "        self.y = y\n",
    "        self.label = label\n",
    "\n",
    "    def __str__(self):\n",
    "        return \"(%s, %s, %s)\" % (self.x, self.y, self.label)\n",
    "\n",
    "def add_point(event):\n",
    "    global points\n",
    "    x, y = event.xdata, event.ydata\n",
    "    if event.inaxes in [select_color_ax, save_ax]:\n",
    "        return\n",
    "    if not (x and y):\n",
    "        return\n",
    "    current_color = select_color_widget.value_selected\n",
    "    point = Point(x, y, label=current_color)\n",
    "    points.append(point)\n",
    "    # add the points to the plot\n",
    "    ax.scatter(point.x, point.y, color=current_color)\n",
    "    # update xlim and ylim to show all points:\n",
    "    # ax.set_xlim(min(-5, array[:, 0].min() - 0.5), max(5, array[:, 0].max() + 0.5))\n",
    "    # ax.set_ylim(min(-5, array[:, 1].min() - 0.5), max(5, array[:, 1].max() + 0.5))\n",
    "    # update the figure\n",
    "    fig.canvas.draw()\n",
    "\n",
    "\n",
    "fig.canvas.callbacks.connect('button_press_event', add_point)\n",
    "save_widget.on_clicked(save_data)\n",
    "plt.show()"
   ]
  },
  {
   "cell_type": "code",
   "execution_count": null,
   "metadata": {
    "collapsed": true
   },
   "outputs": [],
   "source": []
  }
 ],
 "metadata": {
  "kernelspec": {
   "display_name": "Python 2",
   "language": "python",
   "name": "python2"
  },
  "language_info": {
   "codemirror_mode": {
    "name": "ipython",
    "version": 2
   },
   "file_extension": ".py",
   "mimetype": "text/x-python",
   "name": "python",
   "nbconvert_exporter": "python",
   "pygments_lexer": "ipython2",
   "version": "2.7.11"
  }
 },
 "nbformat": 4,
 "nbformat_minor": 0
}
