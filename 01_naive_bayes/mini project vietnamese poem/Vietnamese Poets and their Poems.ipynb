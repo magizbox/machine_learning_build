{
 "cells": [
  {
   "cell_type": "markdown",
   "metadata": {},
   "source": [
    "## Vietnamese Poets and their Poems\n",
    "\n",
    "Oftentime, the question \"Who is author of this poem?\" has no trivial answer. We propose a simple system of multiclass classification of poems based of their texts. We make use of bag-of-word model for feature extraction, and Naive Bayes for the classification task. Our contribution is, thus, a new method to automatically determine the poet given part of text of a poem.\n",
    "\n",
    "**Experiment Setup**\n",
    "\n",
    "I will gather some poems of two Vietnamese famouse poets: \"Tản Đà\" and \"Hồ Xuân Hương\"\n",
    "\n",
    "<div class=\"row\">\n",
    "<div class=\"col-xs-6\">\n",
    "<img src=\"http://nguoinoitieng.tv/images/nnt/0/1/o3.jpg\" style=\"height: 200px\" /><br/>\n",
    "<div class=\"text-center\"><small>Tản Đà</small></div>\n",
    "</div>\n",
    "<div class=\"col-xs-6\">\n",
    "<img src=\"http://dehoctot.vn/wp-content/uploads/2016/05/Banh-troi-nuoc_Ho-Xuan-Huong.jpg\" style=\"height: 200px\" />\n",
    "<div class=\"text-center\"><small>Hồ Xuân Hương</small></div>\n",
    "</div>\n",
    "</div>\n",
    "\n",
    "Then I transform their poems use bag-of-words model. With this dataset, I fit it to Naive Bayes model and see how it works."
   ]
  },
  {
   "cell_type": "code",
   "execution_count": null,
   "metadata": {
    "collapsed": true
   },
   "outputs": [],
   "source": []
  }
 ],
 "metadata": {
  "kernelspec": {
   "display_name": "Python 2",
   "language": "python",
   "name": "python2"
  },
  "language_info": {
   "codemirror_mode": {
    "name": "ipython",
    "version": 2
   },
   "file_extension": ".py",
   "mimetype": "text/x-python",
   "name": "python",
   "nbconvert_exporter": "python",
   "pygments_lexer": "ipython2",
   "version": "2.7.11"
  }
 },
 "nbformat": 4,
 "nbformat_minor": 0
}
