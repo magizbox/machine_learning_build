{
 "cells": [
  {
   "cell_type": "markdown",
   "metadata": {},
   "source": [
    "# Text Learing - Naive Bayes\n",
    "\n",
    "Chris: LOVE (0.1) | DEAL (0.8) | LIFE (0.1)\n",
    "\n",
    "Sarah: LOVE (0.5) | DEAL (0.2) | LIFE (0.3)\n",
    "\n",
    "**Prior:**\n",
    "\n",
    "P(Chris) = 0.5, P(Sarah) = 0.5"
   ]
  },
  {
   "cell_type": "markdown",
   "metadata": {},
   "source": [
    "**Questions**\n",
    "\n",
    "P(Chris | \"LOVE DEAL\") = ?\n",
    "\n",
    "P(Sarah | \"LOVE DEAL\") = ?"
   ]
  },
  {
   "cell_type": "code",
   "execution_count": 10,
   "metadata": {
    "collapsed": false
   },
   "outputs": [
    {
     "name": "stdout",
     "output_type": "stream",
     "text": [
      "P(Chris) =  0.444444444444\n",
      "P(Sarah) =  0.555555555556\n"
     ]
    }
   ],
   "source": [
    "# Answer\n",
    "p1 = 0.1 * 0.8 * 0.5\n",
    "p2 = 0.5 * 0.2 * 0.5\n",
    "\n",
    "print \"P(Chris) = \", p1 / (p1 + p2)\n",
    "print \"P(Sarah) = \", p2 / (p1 + p2)"
   ]
  },
  {
   "cell_type": "markdown",
   "metadata": {},
   "source": [
    "### Naive Bayes Strengths And Weaknesses\n",
    "\n",
    "Naive Bayes ignore word orders"
   ]
  },
  {
   "cell_type": "code",
   "execution_count": null,
   "metadata": {
    "collapsed": true
   },
   "outputs": [],
   "source": []
  }
 ],
 "metadata": {
  "kernelspec": {
   "display_name": "Python 2",
   "language": "python",
   "name": "python2"
  },
  "language_info": {
   "codemirror_mode": {
    "name": "ipython",
    "version": 2
   },
   "file_extension": ".py",
   "mimetype": "text/x-python",
   "name": "python",
   "nbconvert_exporter": "python",
   "pygments_lexer": "ipython2",
   "version": "2.7.11"
  }
 },
 "nbformat": 4,
 "nbformat_minor": 2
}
