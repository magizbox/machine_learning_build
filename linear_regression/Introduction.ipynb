{
 "cells": [
  {
   "cell_type": "markdown",
   "metadata": {},
   "source": [
    "# Linear Regression\n",
    "\n",
    "## Description\n",
    "\n",
    "The \"best fit\" line through all data points. Predictions are numerical\n",
    "\n",
    "## Advantages\n",
    "\n",
    "Easy to understand -- you clearly see what the biggest driers of the model are\n",
    "\n",
    "## Disadvantages\n",
    "\n",
    "* Sometimes too simple to capture complex relationships between variables\n",
    "* Tendency for the model to \"overfit\""
   ]
  }
 ],
 "metadata": {
  "kernelspec": {
   "display_name": "Python 2",
   "language": "python",
   "name": "python2"
  },
  "language_info": {
   "codemirror_mode": {
    "name": "ipython",
    "version": 2
   },
   "file_extension": ".py",
   "mimetype": "text/x-python",
   "name": "python",
   "nbconvert_exporter": "python",
   "pygments_lexer": "ipython2",
   "version": "2.7.11"
  }
 },
 "nbformat": 4,
 "nbformat_minor": 2
}
