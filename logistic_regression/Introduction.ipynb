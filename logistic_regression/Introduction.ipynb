{
 "cells": [
  {
   "cell_type": "markdown",
   "metadata": {},
   "source": [
    "# Logistic Regression\n",
    "\n",
    "## Description\n",
    "\n",
    "The adaptation of linear regression to problems of classification (e.g. yes/no questions, groups, etc.)\n",
    "\n",
    "## Advantages\n",
    "\n",
    "Also easy to understand.\n",
    "\n",
    "## Disadvantages\n",
    "\n",
    "* Sometimes too simple to capture complex relationships between variables\n",
    "* Tendency for the model to \"overfit\""
   ]
  },
  {
   "cell_type": "code",
   "execution_count": null,
   "metadata": {
    "collapsed": true
   },
   "outputs": [],
   "source": []
  }
 ],
 "metadata": {
  "kernelspec": {
   "display_name": "Python 2",
   "language": "python",
   "name": "python2"
  },
  "language_info": {
   "codemirror_mode": {
    "name": "ipython",
    "version": 2
   },
   "file_extension": ".py",
   "mimetype": "text/x-python",
   "name": "python",
   "nbconvert_exporter": "python",
   "pygments_lexer": "ipython2",
   "version": "2.7.11"
  }
 },
 "nbformat": 4,
 "nbformat_minor": 2
}
