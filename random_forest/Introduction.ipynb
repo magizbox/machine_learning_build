{
 "cells": [
  {
   "cell_type": "markdown",
   "metadata": {},
   "source": [
    "# Random Forest\n",
    "\n",
    "## Description\n",
    "\n",
    "Takes the average of many decision trees, each of which is made with a sample of the data.\n",
    "\n",
    "Each tree is weaker than a full decision tree, but by combining them we get better overal performance.\n",
    "\n",
    "## Advantages\n",
    "\n",
    "A sort of \"wisdom of the crowd\". Tends to result in very high quality models. Fast to train.\n",
    "\n",
    "## Disadvantages\n",
    "\n",
    "* Can be slow to output predictions relative to other algorithms\n",
    "* Not easy to understand predictions."
   ]
  },
  {
   "cell_type": "code",
   "execution_count": null,
   "metadata": {
    "collapsed": true
   },
   "outputs": [],
   "source": []
  }
 ],
 "metadata": {
  "kernelspec": {
   "display_name": "Python 2",
   "language": "python",
   "name": "python2"
  },
  "language_info": {
   "codemirror_mode": {
    "name": "ipython",
    "version": 2
   },
   "file_extension": ".py",
   "mimetype": "text/x-python",
   "name": "python",
   "nbconvert_exporter": "python",
   "pygments_lexer": "ipython2",
   "version": "2.7.11"
  }
 },
 "nbformat": 4,
 "nbformat_minor": 2
}
