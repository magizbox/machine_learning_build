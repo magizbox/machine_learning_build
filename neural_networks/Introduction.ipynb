{
 "cells": [
  {
   "cell_type": "markdown",
   "metadata": {},
   "source": [
    "# Neural Networks\n",
    "\n",
    "## Desciption\n",
    "\n",
    "Mimics the behavior of the brain. Neural networks are interconnected neurons that pass messages to each other. Deep Learning uses several layers of neural networks put one after the other\n",
    "\n",
    "## Advantages\n",
    "\n",
    "* Can handle extremely complex task - no other algorithm comes close in image recognition\n",
    "\n",
    "## Disadvantages\n",
    "\n",
    "* Very, very slow to train, because they have so many layers. Require a lot of power\n",
    "* Almost impossible to understand predictions."
   ]
  },
  {
   "cell_type": "code",
   "execution_count": null,
   "metadata": {
    "collapsed": true
   },
   "outputs": [],
   "source": []
  }
 ],
 "metadata": {
  "kernelspec": {
   "display_name": "Python 2",
   "language": "python",
   "name": "python2"
  },
  "language_info": {
   "codemirror_mode": {
    "name": "ipython",
    "version": 2
   },
   "file_extension": ".py",
   "mimetype": "text/x-python",
   "name": "python",
   "nbconvert_exporter": "python",
   "pygments_lexer": "ipython2",
   "version": "2.7.11"
  }
 },
 "nbformat": 4,
 "nbformat_minor": 2
}
